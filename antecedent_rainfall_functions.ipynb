{
 "cells": [
  {
   "cell_type": "markdown",
   "metadata": {},
   "source": [
    "### a series of functions to help in the ground cover forecasting project\n",
    "\n",
    "example use:\n",
    "\n",
    "year_init = 1990\n",
    "\n",
    "year_end = 2020\n",
    "\n",
    "lat= -33.34392\n",
    "\n",
    "lon= 145.28401\n",
    "\n",
    "get_fc_bawap(year_init, year_end, lat, lon)\n"
   ]
  },
  {
   "cell_type": "code",
   "execution_count": 18,
   "metadata": {
    "collapsed": true
   },
   "outputs": [],
   "source": [
    "import matplotlib.pyplot as plt \n",
    "import pandas as pd\n",
    "import numpy as np\n",
    "import xarray as xr\n",
    "import rasterio\n",
    "import os\n",
    "import time"
   ]
  },
  {
   "cell_type": "code",
   "execution_count": 19,
   "metadata": {
    "collapsed": true
   },
   "outputs": [],
   "source": [
    "def bawap_monthly_fname(year, var):\n",
    "    \n",
    "    #path = '/OSM/CBR/CoRE/working/timeseries/Climate/bawap/nc/'+var+'/month/'\n",
    "    path = '/datasets/work/lw-bawapsilo/work/home/bawap/nc/'+var+'/month/'\n",
    "    \n",
    "    text_files = [f for f in os.listdir(path) if f.endswith(str(year)+'1231.nc')]\n",
    "    \n",
    "    return path+text_files[0] \n",
    "\n",
    "def get_bawap_pixel(year_init, year_end, lat, lon, var):\n",
    "    var_month = var+'_month'\n",
    "    df = pd.DataFrame()\n",
    "    for year in range(year_init, year_end+1):\n",
    "        fname = bawap_monthly_fname(year, var)\n",
    "        bawap=xr.open_dataset(fname)\n",
    "        pixel=bawap[var_month].sel(latitude=[lat], longitude=[lon], method='nearest').to_dataset().squeeze().to_dataframe().drop(columns=['latitude','longitude'])\n",
    "        \n",
    "        # remove the time from the date (needed because vph came with time (9am or 3pm)\n",
    "        pixel.index = pixel.index.date\n",
    "        df = df.append(pixel)\n",
    "    \n",
    "    return df\n",
    "\n",
    "def get_bawap_pixel_all(year_init, year_end, lat, lon):\n",
    "    rain = get_bawap_pixel(year_init, year_end, lat, lon, 'rain')\n",
    "    tmax = get_bawap_pixel(year_init, year_end, lat, lon, 'tmax')\n",
    "    tmin = get_bawap_pixel(year_init, year_end, lat, lon, 'tmin')\n",
    "    rad  = get_bawap_pixel(year_init, year_end, lat, lon, 'rad')\n",
    "    vph09  = get_bawap_pixel(year_init, year_end, lat, lon, 'vph09')\n",
    "    vph15  = get_bawap_pixel(year_init, year_end, lat, lon, 'vph15')\n",
    "                             \n",
    "    df=pd.concat([rain,tmax,tmin,rad,vph09,vph15], axis=1)\n",
    "        \n",
    "    return df\n",
    "\n",
    "def fc_monthly_fname(year, month):\n",
    "    path='/datasets/work/lw-lpdaac/work/fc-wron/data/public/v310/australia/monthly/cover/'\n",
    "    fname=path+'FC.v310.MCD43A4.A'+str(year)+'.'+'{:02d}'.format(month)+'.aust.006.tif'\n",
    "    return fname\n",
    "\n",
    "def fc_monthly_TotCov_fname(year, month):\n",
    "    path='/datasets/work/lw-lpdaac/work/fc-wron/data/public/v310/australia/monthly/cover/'\n",
    "    fname=path+'FC.v310.MCD43A4.A'+str(year)+'.'+'{:02d}'.format(month)+'.aust.006.Tot.tif'\n",
    "    return fname\n",
    "\n",
    "def get_fc_pixel(year_init, year_end, lat, lon):\n",
    "    df_all=pd.DataFrame()\n",
    "    for year in range(year_init, year_end+1):\n",
    "        print('getting FC for year', year)\n",
    "        for month in range(1,13):\n",
    "            fname = fc_monthly_fname(year, month)\n",
    "            if os.path.isfile(fname):\n",
    "                raster = rasterio.open(fname)\n",
    "                py, px = raster.index(lon, lat)\n",
    "                window = rasterio.windows.Window(px, py, 1, 1)\n",
    "                pix = raster.read(window=window)\n",
    "                #print(pix)\n",
    "                raster.close()\n",
    "            else:\n",
    "                pix=np.array([[[np.nan]],[[np.nan]],[[np.nan]]])\n",
    "\n",
    "            df = pd.DataFrame()\n",
    "            df['date']=[pd.to_datetime(str(year)+'{:02d}'.format(month), format='%Y%m')]\n",
    "            df['PV'] = [pix.item(1)]\n",
    "            df['NPV'] = [pix.item(2)]\n",
    "            df['BS'] = [pix.item(0)]\n",
    "            df.index=df['date']\n",
    "            df=df.drop(columns='date')\n",
    "            \n",
    "            df_all=df_all.append(df)\n",
    "            \n",
    "    df_all[['PV','NPV','BS']] = df_all[['PV','NPV','BS']].replace(255, np.nan)\n",
    "    df_all['TOT'] = df_all['PV']+df_all['NPV']\n",
    "    df_all['date'] = pd.to_datetime(df_all.index)\n",
    "    #df_all['MONTH']  = df_all.date.dt.month\n",
    "    #df_all['YEAR']   =df_all.date.dt.year\n",
    "    df_all = df_all.drop(columns='date')\n",
    "    \n",
    "    return df_all\n",
    "\n",
    "def get_fc_bawap(year_init, year_end, lat, lon):\n",
    "    fc = get_fc_pixel(year_init, year_end, lat, lon)\n",
    "    bawap = get_bawap_pixel_all(year_init, year_end, lat, lon)\n",
    "    \n",
    "    return pd.concat([bawap,fc], axis=1)\n",
    "\n",
    "def get_fc_bawap_rain(year_init, year_end, lat, lon):\n",
    "    fc = get_fc_pixel(year_init, year_end, lat, lon)\n",
    "    bawap = get_bawap_pixel(year_init, year_end, lat, lon, 'rain')\n",
    "    \n",
    "    return pd.concat([bawap,fc], axis=1)\n",
    "\n",
    "def open_TotCov_xarray(year, month):\n",
    "    fname = fc_monthly_TotCov_fname(year, month)\n",
    "    if os.path.isfile(fname):\n",
    "        da = xr.open_rasterio(fc_monthly_TotCov_fname(year, month))\n",
    "        da['time'] = pd.to_datetime(str(year)+'-'+str(month))\n",
    "        return da\n",
    "\n",
    "    \n"
   ]
  },
  {
   "cell_type": "code",
   "execution_count": 20,
   "metadata": {
    "collapsed": true
   },
   "outputs": [],
   "source": [
    "def get_fc_box(year_init, year_end, left, right, top, bottom):\n",
    "    first=True\n",
    "     \n",
    "    for year in range(year_init, year_end+1):\n",
    "        print('getting FC for year', year)\n",
    "        for month in range(1,13):\n",
    "            fname = fc_monthly_fname(year, month)\n",
    "            if os.path.isfile(fname):\n",
    "                da = xr.open_rasterio(fname)\n",
    "                da = da.sel(x=slice(left,right), y=slice(top,bottom)) \n",
    "                da = da.assign_coords(time=pd.to_datetime(str(year)+'-'+str(month)))\n",
    "                if first:\n",
    "                    da_master=da\n",
    "                    first=False\n",
    "                else:\n",
    "                    da_master=xr.concat([da_master,da], dim='time')   \n",
    "        \n",
    "    da_master = da_master.to_dataset('band')\n",
    "    da_master = da_master.rename({2: 'PV', 3: 'NPV', 1:'BS'}) \n",
    "                \n",
    "    return da_master\n",
    "\n",
    "\n",
    "def get_bawap_box(year_init, year_end, left, right, top, bottom, var):\n",
    "    first=True\n",
    "    var_month = var+'_month'\n",
    "    df = pd.DataFrame()\n",
    "    for year in range(year_init, year_end+1):\n",
    "        print(year)\n",
    "        fname = bawap_monthly_fname(year, var)\n",
    "        bawap=xr.open_dataset(fname)\n",
    "        bawap=bawap[var_month].sel(latitude=slice(top,bottom), longitude=slice(left,right))         \n",
    "        if first:\n",
    "            bawap_master=bawap\n",
    "            first=False\n",
    "        else:\n",
    "            bawap_master=xr.concat([bawap_master,bawap], dim='time')       \n",
    "    return bawap_master\n"
   ]
  },
  {
   "cell_type": "code",
   "execution_count": 21,
   "metadata": {
    "collapsed": true
   },
   "outputs": [],
   "source": [
    "#year_init = 2019\n",
    "#year_end = 2019\n",
    "#month = 2\n",
    "#top=-35\n",
    "#left = 145\n",
    "#bottom=-35.2\n",
    "#right = 145.2\n",
    "#var='rain'\n",
    "#bawap=get_bawap_box(2000,2020, left, right, top, bottom, 'rain')\n",
    "#fc =get_fc_box(year_init, year_end, left, right, top, bottom)\n",
    "#bawap, fc"
   ]
  },
  {
   "cell_type": "code",
   "execution_count": 22,
   "metadata": {
    "collapsed": true
   },
   "outputs": [],
   "source": [
    "#bawap_monthly_fname(2020, 'rain')\n",
    "#get_bawap_pixel_all(2020, 2021, -35, 145)"
   ]
  },
  {
   "cell_type": "code",
   "execution_count": 23,
   "metadata": {
    "collapsed": true
   },
   "outputs": [],
   "source": [
    "#data= get_fc_bawap_rain(1990, 2021,-12.481585, 134.022019)\n",
    "#data"
   ]
  },
  {
   "cell_type": "code",
   "execution_count": 24,
   "metadata": {
    "collapsed": true
   },
   "outputs": [],
   "source": [
    "#data[['PV','NPV','BS','TOT','rain_month']].plot(figsize=[25,5], marker='o')\n"
   ]
  },
  {
   "cell_type": "code",
   "execution_count": 60,
   "metadata": {
    "collapsed": true
   },
   "outputs": [],
   "source": [
    "#data[['PV','NPV','BS','TOT','rain_month']].interpolate(limit_area='inside').plot(figsize=[25,5], marker='o')"
   ]
  },
  {
   "cell_type": "code",
   "execution_count": 31,
   "metadata": {},
   "outputs": [],
   "source": [
    "#fc = get_fc_box(2001, 2020, 145, 146, -35, -36)\n"
   ]
  },
  {
   "cell_type": "code",
   "execution_count": 32,
   "metadata": {},
   "outputs": [],
   "source": [
    "#fc = fc.where(fc < 250)\n",
    "#fc"
   ]
  },
  {
   "cell_type": "code",
   "execution_count": 33,
   "metadata": {
    "collapsed": true
   },
   "outputs": [],
   "source": [
    "#fc['TOT'] = fc['PV'] + fc['NPV']"
   ]
  },
  {
   "cell_type": "code",
   "execution_count": null,
   "metadata": {},
   "outputs": [],
   "source": []
  },
  {
   "cell_type": "code",
   "execution_count": null,
   "metadata": {
    "collapsed": true
   },
   "outputs": [],
   "source": []
  }
 ],
 "metadata": {
  "kernelspec": {
   "display_name": "Python 3.7.2",
   "language": "python",
   "name": "python-3.7.2"
  },
  "language_info": {
   "codemirror_mode": {
    "name": "ipython",
    "version": 3
   },
   "file_extension": ".py",
   "mimetype": "text/x-python",
   "name": "python",
   "nbconvert_exporter": "python",
   "pygments_lexer": "ipython3",
   "version": "3.7.2"
  }
 },
 "nbformat": 4,
 "nbformat_minor": 2
}
